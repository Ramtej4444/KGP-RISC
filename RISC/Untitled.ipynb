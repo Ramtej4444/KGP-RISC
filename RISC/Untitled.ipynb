{
 "cells": [
  {
   "cell_type": "code",
   "execution_count": 8,
   "id": "84102e00",
   "metadata": {},
   "outputs": [
    {
     "data": {
      "image/png": "[encoded data removed]",
      "text/plain": [
       "<Figure size 432x288 with 1 Axes>"
      ]
     },
     "metadata": {
      "needs_background": "light"
     },
     "output_type": "display_data"
    }
   ],
   "source": [
    "import numpy as np\n",
    "import matplotlib.pyplot as plt\n",
    "from sklearn import svm\n",
    "from sklearn.datasets import make_blobs\n",
    "\n",
    "\n",
    "# we create 40 separable points\n",
    "X= np.array([[1,1],[2,2], [4,1],[4,2],[4,-2],[3,-3],[3,-1],[2,-2]] )\n",
    "y = [0,0,0,0,1,1,1,1]\n",
    "# fit the model, don't regularize for illustration purposes\n",
    "clf = svm.SVC(kernel=\"linear\", C=1000)\n",
    "clf.fit(X, y)\n",
    "\n",
    "plt.scatter(X[:, 0], X[:, 1], c=y, s=30, cmap=plt.cm.Paired)\n",
    "\n",
    "# plot the decision function\n",
    "ax = plt.gca()\n",
    "xlim = ax.get_xlim()\n",
    "ylim = ax.get_ylim()\n",
    "\n",
    "# create grid to evaluate model\n",
    "xx = np.linspace(xlim[0], xlim[1], 30)\n",
    "yy = np.linspace(ylim[0], ylim[1], 30)\n",
    "YY, XX = np.meshgrid(yy, xx)\n",
    "xy = np.vstack([XX.ravel(), YY.ravel()]).T\n",
    "Z = clf.decision_function(xy).reshape(XX.shape)\n",
    "\n",
    "# plot decision boundary and margins\n",
    "ax.contour(\n",
    "    XX, YY, Z, colors=\"k\", levels=[-1, 0, 1], alpha=0.5, linestyles=[\"--\", \"-\", \"--\"]\n",
    ")\n",
    "# plot support vectors\n",
    "ax.scatter(\n",
    "    clf.support_vectors_[:, 0],\n",
    "    clf.support_vectors_[:, 1],\n",
    "    s=100,\n",
    "    linewidth=1,\n",
    "    facecolors=\"none\",\n",
    "    edgecolors=\"k\",\n",
    ")\n",
    "plt.show()"
   ]
  },
  {
   "cell_type": "code",
   "execution_count": 2,
   "id": "f790668a",
   "metadata": {},
   "outputs": [
    {
     "data": {
      "text/plain": [
       "array([[  6.37734541, -10.61510727],\n",
       "       [  6.50072722,  -3.82403586],\n",
       "       [  4.29225906,  -8.99220442],\n",
       "       [  7.39169472,  -3.1266933 ],\n",
       "       [  7.64306311, -10.02356892],\n",
       "       [  8.68185687,  -4.53683537],\n",
       "       [  5.37042238,  -2.44715237],\n",
       "       [  9.24223825,  -3.88003098],\n",
       "       [  5.73005848,  -4.19481136],\n",
       "       [  7.9683312 ,  -3.23125265],\n",
       "       [  7.37578372,  -8.7241701 ],\n",
       "       [  6.95292352,  -8.22624269],\n",
       "       [  8.21201164,  -1.54781358],\n",
       "       [  6.85086785,  -9.92422452],\n",
       "       [  5.64443032,  -8.21045789],\n",
       "       [ 10.48848359,  -2.75858164],\n",
       "       [  7.27059007,  -4.84225716],\n",
       "       [  6.29784608, -10.53468031],\n",
       "       [  9.42169269,  -2.6476988 ],\n",
       "       [  8.98426675,  -4.87449712],\n",
       "       [  6.6008728 ,  -8.07144707],\n",
       "       [  5.95313618,  -6.82945967],\n",
       "       [  6.87151089, -10.18071547],\n",
       "       [  6.26221548,  -8.43925752],\n",
       "       [  7.97164446,  -3.38236058],\n",
       "       [  7.67619643,  -2.82620437],\n",
       "       [  7.92736799,  -9.7615272 ],\n",
       "       [  5.86311158, -10.19958738],\n",
       "       [  8.07502382,  -4.25949569],\n",
       "       [  6.78335342,  -8.09238614],\n",
       "       [  7.89359985,  -7.41655113],\n",
       "       [  6.04907774,  -8.76969991],\n",
       "       [  6.77811308,  -9.80940478],\n",
       "       [  8.71445065,  -2.41730491],\n",
       "       [  8.49142837,  -2.54974889],\n",
       "       [  9.49649411,  -3.7902975 ],\n",
       "       [  7.52132141,  -2.12266605],\n",
       "       [  6.3883927 ,  -9.25691447],\n",
       "       [  7.93333064,  -3.51553205],\n",
       "       [  6.86866543, -10.02289012]])"
      ]
     },
     "execution_count": 2,
     "metadata": {},
     "output_type": "execute_result"
    }
   ],
   "source": [
    "X\n",
    "\n"
   ]
  },
  {
   "cell_type": "code",
   "execution_count": 3,
   "id": "1c6c5575",
   "metadata": {},
   "outputs": [
    {
     "data": {
      "text/plain": [
       "array([1, 0, 1, 0, 1, 0, 0, 0, 0, 0, 1, 1, 0, 1, 1, 0, 0, 1, 0, 0, 1, 1,\n",
       "       1, 1, 0, 0, 1, 1, 0, 1, 1, 1, 1, 0, 0, 0, 0, 1, 0, 1])"
      ]
     },
     "execution_count": 3,
     "metadata": {},
     "output_type": "execute_result"
    }
   ],
   "source": [
    "y"
   ]
  },
  {
   "cell_type": "code",
   "execution_count": 4,
   "id": "74a7c5e2",
   "metadata": {},
   "outputs": [
    {
     "data": {
      "text/plain": [
       "40"
      ]
     },
     "execution_count": 4,
     "metadata": {},
     "output_type": "execute_result"
    }
   ],
   "source": [
    "y.size"
   ]
  },
  {
   "cell_type": "code",
   "execution_count": 6,
   "id": "62e48fff",
   "metadata": {},
   "outputs": [
    {
     "data": {
      "text/plain": [
       "(40, 2)"
      ]
     },
     "execution_count": 6,
     "metadata": {},
     "output_type": "execute_result"
    }
   ],
   "source": [
    "X.shape"
   ]
  },
  {
   "cell_type": "code",
   "execution_count": null,
   "id": "bb7581ab",
   "metadata": {},
   "outputs": [],
   "source": []
  }
 ],
 "metadata": {
  "kernelspec": {
   "display_name": "Python 3 (ipykernel)",
   "language": "python",
   "name": "python3"
  },
  "language_info": {
   "codemirror_mode": {
    "name": "ipython",
    "version": 3
   },
   "file_extension": ".py",
   "mimetype": "text/x-python",
   "name": "python",
   "nbconvert_exporter": "python",
   "pygments_lexer": "ipython3",
   "version": "3.8.12"
  }
 },
 "nbformat": 4,
 "nbformat_minor": 5
}
